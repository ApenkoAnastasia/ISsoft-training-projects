﻿{
  "metadata": {
    "name": "final_SQL",
    "kernelspec": {
      "language": "scala",
      "name": "spark2-scala"
    },
    "language_info": {
      "codemirror_mode": "text/x-scala",
      "file_extension": ".scala",
      "mimetype": "text/x-scala",
      "name": "scala",
      "pygments_lexer": "scala"
    }
  },
  "nbformat": 4,
  "nbformat_minor": 2,
  "cells": [
    {
      "cell_type": "markdown",
      "metadata": {},
      "source": "# Zeppelin notebook to get top N most rated movies\n\n## Description\n\nIt\u0027s a zeppelin notebook to determine the top N most rated movies (by average rating) for each specified genre. It allows to set filters for the search: genres, regular expression, years from and to, as well as a number, showing how many movies of each genre to display. At the same time, it sorts movies by genre and average ratings; in case of the same rating then sort by year and title. There is a paragraph to enter arguments for filtering movies. \n\n## Installation\n#### Requirements \nIt requires [Python](https://www.python.org/downloads/)  v3+ to run, Docker and Bash.\nTo install Zeppelin run command:\n```\ndocker run -p 8080:8080 -v /tmp:/tmp --name zeppelin apache/zeppelin:0.9.0\n```\nThen it will start Zeppelin on port 8080."
    },
    {
      "cell_type": "code",
      "execution_count": 1,
      "metadata": {
        "autoscroll": "auto"
      },
      "outputs": [],
      "source": "%pyspark\n\n# for overwriting \nspark.conf.set(\"spark.sql.legacy.allowCreatingManagedTableUsingNonemptyLocation\", \"true\")"
    },
    {
      "cell_type": "markdown",
      "metadata": {},
      "source": "### Download and unpack MovieLens files\n\nOn next paragraph will be downloaded ml-latest-small Dataset from [MovieLens](https://grouplens.org/datasets/movielens/) web site, unpacked movies.csv and ratings.csv into /tmp/Datasets folder."
    },
    {
      "cell_type": "code",
      "execution_count": 3,
      "metadata": {
        "autoscroll": "auto"
      },
      "outputs": [],
      "source": "%sh \n\nif [ -e /tmp/Datasets/ml-latest-small/ratings.csv -a -e /tmp/Datasets/ml-latest-small/movies.csv ]; then \n\techo \"Files csv exists.\"\nelif [ -e /tmp/ml-latest-small.zip ]; then \n\tunzip /tmp/ml-latest-small.zip \\ml-latest-small/ratings.csv \\ml-latest-small/movies.csv -d /tmp/Datasets \n\trm /tmp/ml-latest-small.zip\nelse \n\twget -P /tmp https://files.grouplens.org/datasets/movielens/ml-latest-small.zip \n\tunzip /tmp/ml-latest-small.zip \\ml-latest-small/ratings.csv \\ml-latest-small/movies.csv -d /tmp/Datasets \n\trm /tmp/ml-latest-small.zip\nfi "
    },
    {
      "cell_type": "markdown",
      "metadata": {},
      "source": "### Put csv files into hdfs\n"
    },
    {
      "cell_type": "code",
      "execution_count": 5,
      "metadata": {
        "autoscroll": "auto"
      },
      "outputs": [],
      "source": "%sh\n\nhdfs dfs -mkdir -p /tmp/Datasets/ml-latest-small\n\nhdfs dfs -mkdir -p /tmp/Output\n\nhdfs dfs -put -f /tmp/Datasets/ml-latest-small/movies.csv /tmp/Datasets/ml-latest-small/\n\nhdfs dfs -put -f /tmp/Datasets/ml-latest-small/ratings.csv /tmp/Datasets/ml-latest-small/"
    },
    {
      "cell_type": "markdown",
      "metadata": {},
      "source": "## Local mode\n\nCreate table of movies and ratings from csv files localy"
    },
    {
      "cell_type": "markdown",
      "metadata": {},
      "source": "## HDFS mode\nCreate table of movies and ratings from hdfs file"
    },
    {
      "cell_type": "code",
      "execution_count": 8,
      "metadata": {
        "autoscroll": "auto"
      },
      "outputs": [],
      "source": "%sql\n\nCREATE TABLE IF NOT EXISTS staging_movies( \n                                            movieId INT, \n                                            title STRING,\n                                            genres STRING\n                                          )\nUSING CSV\nOPTIONS (\n            header \u003d true,\n            delimiter \u003d \u0027,\u0027,\n            encoding \u003d \u0027utf-8\u0027,\n            path \u003d \"///tmp/Datasets/ml-latest-small/movies.csv\" \n        )\n"
    },
    {
      "cell_type": "code",
      "execution_count": 9,
      "metadata": {
        "autoscroll": "auto"
      },
      "outputs": [],
      "source": "%sql\n\nCREATE TABLE IF NOT EXISTS staging_movies( \n                                            movieId INT, \n                                            title STRING,\n                                            genres STRING\n                                          )\nUSING CSV\nOPTIONS (\n            header \u003d true,\n            delimiter \u003d \u0027,\u0027,\n            encoding \u003d \u0027utf-8\u0027,\n            path \u003d \"hdfs:///tmp/Datasets/ml-latest-small/movies.csv\" \n        )\n"
    },
    {
      "cell_type": "markdown",
      "metadata": {},
      "source": " \n## Get filtered movies table\n\nThis paragraph parse lines from table which contain data from csv and insert it into new table, where will be movieId, genre, title and year columns. Also its filters this data.\n"
    },
    {
      "cell_type": "code",
      "execution_count": 11,
      "metadata": {
        "autoscroll": "auto"
      },
      "outputs": [],
      "source": "%sql\n\nDROP TABLE IF EXISTS filtered_movies;\nCREATE TABLE IF NOT EXISTS filtered_movies (movieId INT, genre STRING, title STRING, year INT)\nUSING CSV;\n\nWITH parsed_movies \nAS\n(\n    SELECT  movieId,\n            EXPLODE(SPLIT(genres, \"[|]\")) AS genre,\n            REGEXP_EXTRACT(title, \"(.+)[ ]+[(](\\\\d{4})[)]\", 1) AS title,\n            REGEXP_EXTRACT(title, \"(.+)[ ]+[(](\\\\d{4})[)]\", 2) AS year\n    FROM staging_movies\n),\narg_genres \nAS\n(\n    SELECT EXPLODE(SPLIT(\u0027Thriller|War|Crime|Fantasy\u0027, \"[|]\")) AS arg_genre \n),\nresult_movies\nAS\n(\n    SELECT pm.movieId, \n           pm.genre, \n           pm.title, \n           pm.year    \n    FROM parsed_movies AS pm\n    CROSS JOIN arg_genres AS ag\n        ON (pm.genre \u003d ag.arg_genre)      \n    WHERE \n    \t((ISNULL(1970)) OR (pm.year \u003e\u003d 1970)) \n    \tAND ((ISNULL(2010)) OR (pm.year \u003c\u003d 2010)) \n        AND ((\u0027%God%\u0027 \u003d\u003d \u0027\u0027) OR (ISNULL(\u0027%God%\u0027)) OR LIKE(pm.title, \u0027%God%\u0027)) \n)\nINSERT INTO filtered_movies\n    SELECT rm.movieId,\n           rm.genre,\n           rm.title,\n           rm.year\n    FROM result_movies AS rm\n"
    },
    {
      "cell_type": "markdown",
      "metadata": {},
      "source": "## Local mode"
    },
    {
      "cell_type": "markdown",
      "metadata": {},
      "source": "## HDFS mode"
    },
    {
      "cell_type": "code",
      "execution_count": 14,
      "metadata": {
        "autoscroll": "auto"
      },
      "outputs": [],
      "source": "%sql\n\nCREATE TABLE IF NOT EXISTS staging_ratings( \n                                            userId INT,\n                                            movieId INT, \n                                            rating FLOAT,\n                                            timestamp FLOAT\n                                          )\nUSING CSV\nOPTIONS (\n            header \u003d true,\n            delimiter \u003d \u0027,\u0027,\n            encoding \u003d \u0027utf-8\u0027,\n            path \u003d \"///tmp/Datasets/ml-latest-small/ratings.csv\"\n        )"
    },
    {
      "cell_type": "code",
      "execution_count": 15,
      "metadata": {
        "autoscroll": "auto"
      },
      "outputs": [],
      "source": "%sql\n\nCREATE TABLE IF NOT EXISTS staging_ratings( \n                                            userId INT,\n                                            movieId INT, \n                                            rating FLOAT,\n                                            timestamp FLOAT\n                                          )\nUSING CSV\nOPTIONS (\n            header \u003d true,\n            delimiter \u003d \u0027,\u0027,\n            encoding \u003d \u0027utf-8\u0027,\n            path \u003d \"hdfs:///tmp/Datasets/ml-latest-small/ratings.csv\"\n        )"
    },
    {
      "cell_type": "markdown",
      "metadata": {},
      "source": "## Get result table of movies with retings\n\nThis paragraph create table whicth joines two tables (table of average rating + filtered movies), then it sorts data in necessary order and inserts it into result table with N-counted distinct genres."
    },
    {
      "cell_type": "code",
      "execution_count": 17,
      "metadata": {
        "autoscroll": "auto"
      },
      "outputs": [],
      "source": "%sql\n\nDROP TABLE IF EXISTS movies_with_ratings;\nCREATE TABLE IF NOT EXISTS movies_with_ratings (genre STRING, title STRING, year INT, rating FLOAT)\nUSING CSV;\n\nWITH filtered_ratings\nAS\n(\n    SELECT sr.movieId,\n           sr.rating\n    FROM staging_ratings AS sr\n    JOIN filtered_movies AS fm\n        ON (sr.movieId \u003d fm.movieId)\n),\naverage_ratings\nAS\n(\n    SELECT movieId,\n           ROUND(AVG(rating), 3) AS rating\n    FROM filtered_ratings\n    GROUP BY movieId\n),\nmovies_with_avg_ratings\nAS\n(\n    SELECT fm.genre,\n           fm.title,\n           fm.year,\n           ar.rating\n    FROM filtered_movies AS fm\n    JOIN average_ratings AS ar\n        ON (fm.movieId \u003d ar.movieId)\n),\nrowed_movies \nAS \n(\n\tSELECT *, ROW_NUMBER() OVER(PARTITION BY movies_with_avg_ratings.genre ORDER BY movies_with_avg_ratings.rating DESC, \n\t                                                                                movies_with_avg_ratings.year DESC, \n\t                                                                                movies_with_avg_ratings.title) rn\n\tFROM movies_with_avg_ratings\n)\nINSERT INTO movies_with_ratings\n    SELECT genre,\n        title,\n        year,\n        rating\n    FROM rowed_movies\n    WHERE (rn \u003c\u003d 5)\n"
    },
    {
      "cell_type": "markdown",
      "metadata": {},
      "source": "## Local mode output"
    },
    {
      "cell_type": "markdown",
      "metadata": {},
      "source": "## HDFS mode output"
    },
    {
      "cell_type": "code",
      "execution_count": 20,
      "metadata": {
        "autoscroll": "auto"
      },
      "outputs": [],
      "source": "%sql\n\nDROP TABLE IF EXISTS output_list;\n\nCREATE TABLE IF NOT EXISTS output_list\nUSING CSV\nLOCATION \"///tmp/Output/\"\nAS\n(\n    SELECT  genre,\n            title,\n            year,\n            rating\n    FROM movies_with_ratings\n    ORDER BY genre, rating DESC, year DESC, title\n)"
    },
    {
      "cell_type": "code",
      "execution_count": 21,
      "metadata": {
        "autoscroll": "auto"
      },
      "outputs": [],
      "source": "%sql\n\nDROP TABLE IF EXISTS output_list;\n\nCREATE TABLE IF NOT EXISTS output_list\nUSING CSV\nLOCATION \"hdfs:///tmp/Output/\"\nAS\n(\n    SELECT  genre,\n            title,\n            year,\n            rating\n    FROM movies_with_ratings\n    ORDER BY genre, rating DESC, year DESC, title\n)"
    },
    {
      "cell_type": "markdown",
      "metadata": {},
      "source": " \n## Local mode cat result"
    },
    {
      "cell_type": "markdown",
      "metadata": {},
      "source": "## HDFS mode cat result"
    },
    {
      "cell_type": "code",
      "execution_count": 24,
      "metadata": {
        "autoscroll": "auto"
      },
      "outputs": [],
      "source": "%sh\necho \u0027genre, title, year, rating\u0027\ncat /tmp/Output/*"
    },
    {
      "cell_type": "code",
      "execution_count": 25,
      "metadata": {
        "autoscroll": "auto"
      },
      "outputs": [],
      "source": "%sh\necho \u0027genre, title, year, rating\u0027\nhdfs dfs -cat /tmp/Output/*"
    }
  ]
}